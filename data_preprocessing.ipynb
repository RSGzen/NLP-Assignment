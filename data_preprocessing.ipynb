{
 "cells": [
  {
   "cell_type": "code",
   "execution_count": 1,
   "id": "796596b3",
   "metadata": {},
   "outputs": [],
   "source": [
    "import pandas as pd\n",
    "import numpy as np\n",
    "import nltk\n",
    "import os\n",
    "import re\n",
    "import contractions\n",
    "import emoji\n",
    "import json\n",
    "import time\n",
    "\n",
    "from tqdm import tqdm\n",
    "from nltk.tokenize import word_tokenize\n",
    "from nltk.corpus import stopwords\n",
    "from nltk.stem import WordNetLemmatizer\n",
    "from sklearn.feature_extraction.text import CountVectorizer"
   ]
  },
  {
   "cell_type": "code",
   "execution_count": 2,
   "id": "b2c412d6",
   "metadata": {},
   "outputs": [
    {
     "name": "stderr",
     "output_type": "stream",
     "text": [
      "[nltk_data] Downloading package punkt to\n",
      "[nltk_data]     C:\\Users\\user\\AppData\\Roaming\\nltk_data...\n",
      "[nltk_data]   Package punkt is already up-to-date!\n",
      "[nltk_data] Downloading package stopwords to\n",
      "[nltk_data]     C:\\Users\\user\\AppData\\Roaming\\nltk_data...\n",
      "[nltk_data]   Package stopwords is already up-to-date!\n",
      "[nltk_data] Downloading package wordnet to\n",
      "[nltk_data]     C:\\Users\\user\\AppData\\Roaming\\nltk_data...\n",
      "[nltk_data]   Package wordnet is already up-to-date!\n"
     ]
    },
    {
     "data": {
      "text/plain": [
       "True"
      ]
     },
     "execution_count": 2,
     "metadata": {},
     "output_type": "execute_result"
    }
   ],
   "source": [
    "# For tokenization\n",
    "nltk.download('punkt')\n",
    "\n",
    "# For removing stopwords\n",
    "nltk.download('stopwords')\n",
    "\n",
    "# For lemmatization\n",
    "nltk.download('wordnet')"
   ]
  },
  {
   "cell_type": "code",
   "execution_count": 3,
   "id": "efab3111",
   "metadata": {},
   "outputs": [
    {
     "name": "stdout",
     "output_type": "stream",
     "text": [
      "   No                   Movie Name  Year  \\\n",
      "0   1                Inside Out: 2  2024   \n",
      "1   2                Incredibles 2  2018   \n",
      "2   3  The Super Mario Bros. Movie  2023   \n",
      "3   4                The Lion King  2019   \n",
      "4   5                 Finding Dory  2016   \n",
      "\n",
      "                                               Genre  \\\n",
      "0  Animation, Adventure, Comedy, Drama, Family, F...   \n",
      "1                       Animation, Action, Adventure   \n",
      "2                       Animation, Adventure, Comedy   \n",
      "3                        Animation, Adventure, Drama   \n",
      "4                       Animation, Adventure, Comedy   \n",
      "\n",
      "                                        Plot Summary  \\\n",
      "0  Two years after her move to San Francisco,[d] ...   \n",
      "1  The Parr family (alias The Incredibles) and Lu...   \n",
      "2  Italian-American brothers Mario and Luigi oper...   \n",
      "3  In the Pride Lands of Tanzania, a pride of lio...   \n",
      "4  Dory, the regal blue tang, gets separated from...   \n",
      "\n",
      "                                       Director  \\\n",
      "0                                   Kelsey Mann   \n",
      "1                                     Brad Bird   \n",
      "2  Aaron Horvath, Michael Jelenic, Pierre Leduc   \n",
      "3                                   Jon Favreau   \n",
      "4                 Andrew Stanton, Angus MacLane   \n",
      "\n",
      "                                          Star  \n",
      "0  Amy Poehler, Maya Hawke, Kensington Tallman  \n",
      "1  Craig T. Nelson, Holly Hunter, Sarah Vowell  \n",
      "2    Chris Pratt, Anya Taylor-Joy, Charlie Day  \n",
      "3           Donald Glover, Beyonc , Seth Rogen  \n",
      "4   Ellen DeGeneres, Albert Brooks, Ed O'Neill  \n"
     ]
    }
   ],
   "source": [
    "\"\"\"\n",
    "This is a dataset which contains information of the top 100 most popular animation movie based on the IMDB movie rating website\n",
    "\n",
    "This is a dataset scraped from IMDB movie rating website for features such as:\n",
    "    -> Movie name\n",
    "    -> Year of screening\n",
    "    -> Genre\n",
    "    -> Director\n",
    "    -> Star\n",
    "\n",
    "The dataset is combined with another feature scraped from Wikipedia which is the:\n",
    "    -> Plot summary\n",
    "\n",
    "\"\"\"\n",
    "\n",
    "# Read dataset CSV and print first 5 examples\n",
    "\n",
    "base_wd = os.getcwd()\n",
    "\n",
    "csv_path = os.path.join(\"data\", \"movieData.csv\")\n",
    "\n",
    "df = pd.read_csv(csv_path)\n",
    "\n",
    "print(df.head(5))"
   ]
  },
  {
   "cell_type": "code",
   "execution_count": 4,
   "id": "da97d5fe",
   "metadata": {},
   "outputs": [
    {
     "name": "stdout",
     "output_type": "stream",
     "text": [
      "Number of movies: 100\n",
      "\n",
      "Example movie:\n",
      "No                                                              1\n",
      "Movie Name                                          Inside Out: 2\n",
      "Year                                                         2024\n",
      "Genre           Animation, Adventure, Comedy, Drama, Family, F...\n",
      "Plot Summary    Two years after her move to San Francisco,[d] ...\n",
      "Director                                              Kelsey Mann\n",
      "Star                  Amy Poehler, Maya Hawke, Kensington Tallman\n",
      "Name: 0, dtype: object\n"
     ]
    }
   ],
   "source": [
    "print(f\"Number of movies: {len(df)}\\n\")\n",
    "\n",
    "print(\"Example movie:\")\n",
    "print(df.iloc[0])"
   ]
  },
  {
   "cell_type": "code",
   "execution_count": 5,
   "id": "dc87cb97",
   "metadata": {},
   "outputs": [],
   "source": [
    "## Remove Movie No which is irrelevant for data\n",
    "\n",
    "df = df.drop('No', axis='columns')"
   ]
  },
  {
   "cell_type": "code",
   "execution_count": 6,
   "id": "6b5b844c",
   "metadata": {},
   "outputs": [
    {
     "name": "stdout",
     "output_type": "stream",
     "text": [
      "Missing values in Movie Name: 0\n",
      "Missing values in Year: 0\n",
      "Missing values in Genre: 0\n",
      "Missing values in Plot Summary: 0\n",
      "Missing values in Director: 0\n",
      "Missing values in Star: 0\n"
     ]
    }
   ],
   "source": [
    "## Check for any missing values in the dataset\n",
    "\n",
    "def nan_counter(feature_name: str, df: pd.DataFrame):\n",
    "    nan_count = df[feature_name].isnull().sum()\n",
    "\n",
    "    print(f\"Missing values in {feature_name}: {nan_count}\")\n",
    "\n",
    "nan_counter(\"Movie Name\", df)\n",
    "nan_counter(\"Year\", df)\n",
    "nan_counter(\"Genre\", df)\n",
    "nan_counter(\"Plot Summary\", df)\n",
    "nan_counter(\"Director\", df)\n",
    "nan_counter(\"Star\", df)"
   ]
  },
  {
   "cell_type": "code",
   "execution_count": 7,
   "id": "3f34c100",
   "metadata": {},
   "outputs": [
    {
     "name": "stdout",
     "output_type": "stream",
     "text": [
      "              Year\n",
      "count   100.000000\n",
      "mean   2009.920000\n",
      "std      12.595237\n",
      "min    1937.000000\n",
      "25%    2006.000000\n",
      "50%    2012.000000\n",
      "75%    2017.000000\n",
      "max    2024.000000\n"
     ]
    }
   ],
   "source": [
    "## Creating a short description of dataset\n",
    "\n",
    "print(df.describe())"
   ]
  },
  {
   "cell_type": "code",
   "execution_count": 8,
   "id": "f614ccf3",
   "metadata": {},
   "outputs": [],
   "source": [
    "## Remove newline characters in the dataset\n",
    "\n",
    "df = df.replace('\\n',' ', regex=True)"
   ]
  },
  {
   "cell_type": "code",
   "execution_count": 9,
   "id": "ea567fe4",
   "metadata": {},
   "outputs": [],
   "source": [
    "## Save new dataframe as csv\n",
    "\n",
    "base_wd = os.getcwd()\n",
    "\n",
    "df_csv_path = os.path.join(base_wd, \"data\", \"cleanedAnimation.csv\")\n",
    "\n",
    "df.to_csv(df_csv_path)"
   ]
  },
  {
   "cell_type": "code",
   "execution_count": 10,
   "id": "4a2d976e",
   "metadata": {},
   "outputs": [
    {
     "name": "stdout",
     "output_type": "stream",
     "text": [
      "\n",
      "Number of movies: 100\n",
      "\n",
      "Example of movie information string: \n",
      "2024 Animation, Adventure, Comedy, Drama, Family, Fantasy Two years after her move to San Francisco,[d] 13-year-old Riley Andersen is entering high school. Her personified emotions Joy, Sadness, Fear, Disgust, and Anger now oversee a newly formed element of Riley's mind called her \"Sense of Self\", which houses memories and feelings that shape Riley's beliefs. Joy, aiming to fill the Sense of Self with only good memories, has created a mechanism that launches bad memories to the back of Riley's mind. Riley and her best friends, Bree and Grace, are invited to a three-day ice hockey camp, where Riley hopes to qualify for her new school's team, the Fire Hawks. In Headquarters, a \"puberty alarm\" from the previous movie goes off the night before camp, and several mind workers abruptly upgrade the emotion console, leaving Headquarters in disarray. The emotions find that Riley now overreacts to any inputs they make to the console. Four new emotions Anxiety, Envy, Embarrassment, and Ennui arrive and clash with the original emotions over their approaches. In particular, Joy wants Riley to have fun at camp, while Anxiety focuses on winning a spot on the team and making new friends, especially after Riley learns that Bree and Grace will be attending a different high school. Under Joy's control, Riley inadvertently gets the campers in trouble by the strict camp director, Coach Roberts. Anxiety, deciding that Riley needs to change to fit in with the older players, launches the Sense of Self to the back of the mind and has the old emotions bottled up and thrown into a memory vault. The new emotions then create a new anxiety-dominated Sense of Self and encourage Riley to befriend popular hockey player Valentina \"Val\" Ortiz, straining her friendship with Bree and Grace. After the original emotions escape the vault, Joy sends Sadness back to Headquarters with a two-way radio while she and the others retrieve the Sense of Self. Sadness is discovered by Embarrassment, who reluctantly helps her remain hidden, eventually helping her out. Under Anxiety's control, Riley sneaks into Coach Roberts' office and learns from her notebook that Riley is not considered ready yet to become a Fire Hawk. The four original emotions find the old Sense of Self on a mountain of bad memories deposited by Joy's mechanism. Anxiety, overhearing Joy's plan through the two-way radio, destroys the recall tube, keeping Joy and the others trapped in the back of the mind. Joy blows up the cliff full of bad memories, sending them careening into Riley's Belief System while she and the emotions ride it to return to Headquarters. Anxiety realizes her plan to create a new Sense of Self has backfired, having generated one of self-doubt and inferiority, which causes Riley to perform poorly during her final tryout match, accidentally crash into Grace, and get sent to the penalty box. Horrified, Anxiety frantically swarms the console in a blinding whirlwind, causing Riley to have an anxiety attack. Returning to Headquarters, Joy finds Anxiety still in control but heavily stressed out; Joy convinces her that Riley doesn't need to change to have a better future. Anxiety relents and Joy reinstates Riley's original Sense of Self, but the panic attack persists. Anxiety apologizes to Joy, and reveals that neither she, nor any of the emotions, gets to choose who Riley is. Joy, realizing that Anxiety is telling the truth, removes the first Sense of Self, allowing a new one to form from both Riley's good and bad memories. The emotions embrace this third self, calming Riley and helping her reconcile with Bree and Grace. The console calls for Joy, who takes command and helps Riley happily finish the hockey tryouts. Riley befriends Val and the other Fire Hawks at high school, while maintaining her friendship with Bree and Grace. Living in peace, the nine emotions work together to protect Riley, as she happily checks her phone for the Fire Hawks' recruitment results. Kelsey Mann Amy Poehler, Maya Hawke, Kensington Tallman \n"
     ]
    },
    {
     "name": "stderr",
     "output_type": "stream",
     "text": [
      "C:\\Users\\user\\AppData\\Local\\Temp\\ipykernel_14084\\32399931.py:8: FutureWarning: Series.__getitem__ treating keys as positions is deprecated. In a future version, integer keys will always be treated as labels (consistent with DataFrame behavior). To access a value by position, use `ser.iloc[pos]`\n",
      "  temp_str = temp_str + str(df.iloc[i][j]) + \" \"\n"
     ]
    }
   ],
   "source": [
    "## Create a huge array to store BagOfWords of each movie information\n",
    "\n",
    "df_str = []\n",
    "\n",
    "for i in range(len(df)):\n",
    "    temp_str = \"\"\n",
    "    for j in range(1, len(df.iloc[0])): # Exclude the name of movies to be included\n",
    "         temp_str = temp_str + str(df.iloc[i][j]) + \" \"\n",
    "    \n",
    "    df_str.append(temp_str)\n",
    "\n",
    "print(f\"\\nNumber of movies: {len(df_str)}\")\n",
    "print(f\"\\nExample of movie information string: \\n{df_str[0]}\")"
   ]
  },
  {
   "cell_type": "code",
   "execution_count": 11,
   "id": "8d251404",
   "metadata": {},
   "outputs": [],
   "source": [
    "## Create preprocess pipeline for the text strings per movie\n",
    "\n",
    "def preprocess_text(text_str: str):\n",
    "\n",
    "    \"\"\"\n",
    "    Remove characters that are not characters of \n",
    "        --> a - z\n",
    "        --> A - Z\n",
    "        --> 0 - 9\n",
    "    \"\"\"\n",
    "\n",
    "    clean_text = re.sub(r'[^a-zA-Z0-9\\s]', '', text_str) \n",
    "\n",
    "    # Turns all uppercase alphabets to lowercase\n",
    "    clean_text = clean_text.lower()\n",
    "\n",
    "    # Tokenize string of text into individual units\n",
    "    tokenized_text = word_tokenize(clean_text)\n",
    "\n",
    "    # Remove stopwords which provide little to none useful information\n",
    "    stop_words = set(stopwords.words('english'))\n",
    "    \n",
    "    filtered_text = [token for token in tokenized_text if token not in stop_words]\n",
    "\n",
    "    # Lemmatization of tokens\n",
    "    lemmatizer = WordNetLemmatizer()\n",
    "    lemmatized_text = []\n",
    "\n",
    "    for token in filtered_text:\n",
    "        lemmatized_text.append(lemmatizer.lemmatize(token))\n",
    "    \n",
    "    # Process contractions (words with apostrophe) by replacing them with words of similar meaning\n",
    "    expanded_text = [contractions.fix(token) for token in lemmatized_text]\n",
    "\n",
    "    # Handle emojis and emoticons\n",
    "    emoji_clean_text = [emoji.demojize(token) for token in expanded_text]\n",
    "\n",
    "    # Remove \"None\" type tokens from the list\n",
    "    final_text = [token for token in emoji_clean_text if token != None]\n",
    "\n",
    "    # Rejoin into a BoW for each token in a movie information\n",
    "    string_BoW = \" \".join(final_text)\n",
    "\n",
    "    return string_BoW"
   ]
  },
  {
   "cell_type": "code",
   "execution_count": 12,
   "id": "ad7eb09a",
   "metadata": {},
   "outputs": [
    {
     "name": "stdout",
     "output_type": "stream",
     "text": [
      "Before:\n",
      " 2024 Animation, Adventure, Comedy, Drama, Family, Fantasy Two years after her move to San Francisco,[d] 13-year-old Riley Andersen is entering high school. Her personified emotions Joy, Sadness, Fear, Disgust, and Anger now oversee a newly formed element of Riley's mind called her \"Sense of Self\", which houses memories and feelings that shape Riley's beliefs. Joy, aiming to fill the Sense of Self with only good memories, has created a mechanism that launches bad memories to the back of Riley's mind. Riley and her best friends, Bree and Grace, are invited to a three-day ice hockey camp, where Riley hopes to qualify for her new school's team, the Fire Hawks. In Headquarters, a \"puberty alarm\" from the previous movie goes off the night before camp, and several mind workers abruptly upgrade the emotion console, leaving Headquarters in disarray. The emotions find that Riley now overreacts to any inputs they make to the console. Four new emotions Anxiety, Envy, Embarrassment, and Ennui arrive and clash with the original emotions over their approaches. In particular, Joy wants Riley to have fun at camp, while Anxiety focuses on winning a spot on the team and making new friends, especially after Riley learns that Bree and Grace will be attending a different high school. Under Joy's control, Riley inadvertently gets the campers in trouble by the strict camp director, Coach Roberts. Anxiety, deciding that Riley needs to change to fit in with the older players, launches the Sense of Self to the back of the mind and has the old emotions bottled up and thrown into a memory vault. The new emotions then create a new anxiety-dominated Sense of Self and encourage Riley to befriend popular hockey player Valentina \"Val\" Ortiz, straining her friendship with Bree and Grace. After the original emotions escape the vault, Joy sends Sadness back to Headquarters with a two-way radio while she and the others retrieve the Sense of Self. Sadness is discovered by Embarrassment, who reluctantly helps her remain hidden, eventually helping her out. Under Anxiety's control, Riley sneaks into Coach Roberts' office and learns from her notebook that Riley is not considered ready yet to become a Fire Hawk. The four original emotions find the old Sense of Self on a mountain of bad memories deposited by Joy's mechanism. Anxiety, overhearing Joy's plan through the two-way radio, destroys the recall tube, keeping Joy and the others trapped in the back of the mind. Joy blows up the cliff full of bad memories, sending them careening into Riley's Belief System while she and the emotions ride it to return to Headquarters. Anxiety realizes her plan to create a new Sense of Self has backfired, having generated one of self-doubt and inferiority, which causes Riley to perform poorly during her final tryout match, accidentally crash into Grace, and get sent to the penalty box. Horrified, Anxiety frantically swarms the console in a blinding whirlwind, causing Riley to have an anxiety attack. Returning to Headquarters, Joy finds Anxiety still in control but heavily stressed out; Joy convinces her that Riley doesn't need to change to have a better future. Anxiety relents and Joy reinstates Riley's original Sense of Self, but the panic attack persists. Anxiety apologizes to Joy, and reveals that neither she, nor any of the emotions, gets to choose who Riley is. Joy, realizing that Anxiety is telling the truth, removes the first Sense of Self, allowing a new one to form from both Riley's good and bad memories. The emotions embrace this third self, calming Riley and helping her reconcile with Bree and Grace. The console calls for Joy, who takes command and helps Riley happily finish the hockey tryouts. Riley befriends Val and the other Fire Hawks at high school, while maintaining her friendship with Bree and Grace. Living in peace, the nine emotions work together to protect Riley, as she happily checks her phone for the Fire Hawks' recruitment results. Kelsey Mann Amy Poehler, Maya Hawke, Kensington Tallman \n",
      "\n",
      "After:\n",
      " 2024 animation adventure comedy drama family fantasy two year move san franciscod 13yearold riley andersen entering high school personified emotion joy sadness fear disgust anger oversee newly formed element riley mind called sense self house memory feeling shape riley belief joy aiming fill sense self good memory created mechanism launch bad memory back riley mind riley best friend bree grace invited threeday ice hockey camp riley hope qualify new school team fire hawk headquarters puberty alarm previous movie go night camp several mind worker abruptly upgrade emotion console leaving headquarters disarray emotion find riley overreacts input make console four new emotion anxiety envy embarrassment ennui arrive clash original emotion approach particular joy want riley fun camp anxiety focus winning spot team making new friend especially riley learns bree grace attending different high school joy control riley inadvertently get camper trouble strict camp director coach robert anxiety deciding riley need change fit older player launch sense self back mind old emotion bottled thrown memory vault new emotion create new anxietydominated sense self encourage riley befriend popular hockey player valentina val ortiz straining friendship bree grace original emotion escape vault joy sends sadness back headquarters twoway radio others retrieve sense self sadness discovered embarrassment reluctantly help remain hidden eventually helping anxiety control riley sneak coach robert office learns notebook riley considered ready yet become fire hawk four original emotion find old sense self mountain bad memory deposited joy mechanism anxiety overhearing joy plan twoway radio destroys recall tube keeping joy others trapped back mind joy blow cliff full bad memory sending careening riley belief system emotion ride return headquarters anxiety realizes plan create new sense self backfired generated one selfdoubt inferiority because riley perform poorly final tryout match accidentally crash grace get sent penalty box horrified anxiety frantically swarm console blinding whirlwind causing riley anxiety attack returning headquarters joy find anxiety still control heavily stressed joy convinces riley does not need change better future anxiety relents joy reinstates riley original sense self panic attack persists anxiety apologizes joy reveals neither emotion get choose riley joy realizing anxiety telling truth remove first sense self allowing new one form riley good bad memory emotion embrace third self calming riley helping reconcile bree grace console call joy take command help riley happily finish hockey tryout riley befriends val fire hawk high school maintaining friendship bree grace living peace nine emotion work together protect riley happily check phone fire hawk recruitment result kelsey mann amy poehler maya hawke kensington tallman\n"
     ]
    }
   ],
   "source": [
    "## Example of Text Preprocessing\n",
    "\n",
    "print(f\"Before:\\n {df_str[0]}\\n\")\n",
    "\n",
    "print(f\"After:\\n {preprocess_text(df_str[0])}\")"
   ]
  },
  {
   "cell_type": "code",
   "execution_count": 13,
   "id": "f8d56ad4",
   "metadata": {},
   "outputs": [
    {
     "name": "stderr",
     "output_type": "stream",
     "text": [
      "Preprocessing BagOfWords: 100%|██████████| 100/100 [00:01<00:00, 87.91it/s]"
     ]
    },
    {
     "name": "stdout",
     "output_type": "stream",
     "text": [
      "\n",
      "BoW Preprocessing Completed\n"
     ]
    },
    {
     "name": "stderr",
     "output_type": "stream",
     "text": [
      "\n"
     ]
    }
   ],
   "source": [
    "## Preprocess BagOfWords\n",
    "\n",
    "preprocessed_bow = []\n",
    "\n",
    "for i in tqdm(range(0, len(df_str)), desc=\"Preprocessing BagOfWords\"):\n",
    "    processed_tokens = preprocess_text(df_str[i])\n",
    "\n",
    "    if processed_tokens == None:\n",
    "        print(f\"{i}\\n\")\n",
    "        continue\n",
    "    \n",
    "    preprocessed_bow.append(processed_tokens)\n",
    "\n",
    "print(\"\\nBoW Preprocessing Completed\")"
   ]
  },
  {
   "cell_type": "code",
   "execution_count": 14,
   "id": "93b776e6",
   "metadata": {},
   "outputs": [],
   "source": [
    "## Save processed BoW as json format\n",
    "\n",
    "base_wd = os.getcwd()\n",
    "\n",
    "jsonfile_name = \"ori_BoW.json\"\n",
    "\n",
    "jsonfile_path = os.path.join(base_wd, \"data\", jsonfile_name)"
   ]
  },
  {
   "cell_type": "code",
   "execution_count": 15,
   "id": "98d9d2ff",
   "metadata": {},
   "outputs": [
    {
     "name": "stdout",
     "output_type": "stream",
     "text": [
      "BagOfWords array has been converted into a json file\n"
     ]
    }
   ],
   "source": [
    "with open(jsonfile_path, \"w\") as jsonFile:\n",
    "    json.dump(preprocessed_bow, jsonFile)\n",
    "\n",
    "print(\"BagOfWords array has been converted into a json file\")"
   ]
  },
  {
   "cell_type": "code",
   "execution_count": 16,
   "id": "1d7b6e00",
   "metadata": {},
   "outputs": [
    {
     "name": "stdout",
     "output_type": "stream",
     "text": [
      "['2024 animation adventure comedy drama family fantasy two year move san franciscod 13yearold riley andersen entering high school personified emotion joy sadness fear disgust anger oversee newly formed element riley mind called sense self house memory feeling shape riley belief joy aiming fill sense self good memory created mechanism launch bad memory back riley mind riley best friend bree grace invited threeday ice hockey camp riley hope qualify new school team fire hawk headquarters puberty alarm previous movie go night camp several mind worker abruptly upgrade emotion console leaving headquarters disarray emotion find riley overreacts input make console four new emotion anxiety envy embarrassment ennui arrive clash original emotion approach particular joy want riley fun camp anxiety focus winning spot team making new friend especially riley learns bree grace attending different high school joy control riley inadvertently get camper trouble strict camp director coach robert anxiety deciding riley need change fit older player launch sense self back mind old emotion bottled thrown memory vault new emotion create new anxietydominated sense self encourage riley befriend popular hockey player valentina val ortiz straining friendship bree grace original emotion escape vault joy sends sadness back headquarters twoway radio others retrieve sense self sadness discovered embarrassment reluctantly help remain hidden eventually helping anxiety control riley sneak coach robert office learns notebook riley considered ready yet become fire hawk four original emotion find old sense self mountain bad memory deposited joy mechanism anxiety overhearing joy plan twoway radio destroys recall tube keeping joy others trapped back mind joy blow cliff full bad memory sending careening riley belief system emotion ride return headquarters anxiety realizes plan create new sense self backfired generated one selfdoubt inferiority because riley perform poorly final tryout match accidentally crash grace get sent penalty box horrified anxiety frantically swarm console blinding whirlwind causing riley anxiety attack returning headquarters joy find anxiety still control heavily stressed joy convinces riley does not need change better future anxiety relents joy reinstates riley original sense self panic attack persists anxiety apologizes joy reveals neither emotion get choose riley joy realizing anxiety telling truth remove first sense self allowing new one form riley good bad memory emotion embrace third self calming riley helping reconcile bree grace console call joy take command help riley happily finish hockey tryout riley befriends val fire hawk high school maintaining friendship bree grace living peace nine emotion work together protect riley happily check phone fire hawk recruitment result kelsey mann amy poehler maya hawke kensington tallman', '2018 animation action adventure parr family alias incredibles lucius best alias frozone battle underminerb superheroes prevent villain destroying city hall fail stop robbing bank making escape lukewarm success massive property damage prompt government shut superhero relocation program ending financial assistance super violet classmate love interest tony rydinger discovers superhero identity agent rick dicker accidentally erases tonys entire knowledge violet instead incident wealthy sibling winston evelyn deavor run telecommunication company devtech propose secret mission helen alias elastigirl bob alias mr incredible lucius recorded broadcast movement regain public trust superheroes winston chooses helen initial mission caused least property damage initially reluctant away family risking getting trouble law helen accepts talk bob winston rehouses parr luxury mansion bob struggle new role stayathome parent left deal violet dejection tony forgetting first date dash math homework chaos baby jackjacks burgeoning superpower suppresses envy helen luciuss advice call edna mode babysit jackjack meanwhile city new urbem helen encounter supervillain screenslaver hacker perform hypnosis screen preventing destroying crowded hovertrain thwarting assassination attempt ambassador track signal infiltrates base defeating unmasks discover disoriented pizza delivery driver bewildered detainment party celebrating helen success winston announces summit world leader legalize super live television hosted aboard luxury hydrofoil yacht everjust attended super coming hiding helen realizes screenslaver lured decoy double pizza delivery driver control hypnotic goggles evelyn reveals true screenslaver capture helen restraining using goggles freezing cell negates selfstretching superpower evelyn blame society overdependence super death winstons parent father shot burglar newly outlawed super fironic gazerbeam answer call aid mother died grief evelyn plan sabotage brother summit ruin reputation super keep outlawed hope public safer selfsufficient crimefighting evelyn lure bob trap everjust goggling sends squadron hypnotized super subdue violet dash lucius arrives protect overwhelmed goggled violet dash jackjack escape refurbished incredibile supercar owned bob deducing parent peril stow away everjust onboard helen bob lucius forced broadcast giving villainous speech subduing ship crew locking course towards new urbem disastrous pace child arrive jackjack remove goggles helen turn free bob lucius work together release mindcontrolled super safely prevent everjusts collision city evelyn escape yacht parasite jet caught helen arrested another disaster averted positive publicity surrounding super around world regain legal respected status winston hoped sometime later tony picked violet family incredibile reinstated movie date spot police chase violet leaf tony cinema promising quick return parr enthusiastically superhero mask join pursuita brad bird craig nelson holly hunter sarah vowell', '2023 animation adventure comedy italianamerican brother mario luigi operate struggling plumbing business brooklyn derision exforeman spike disapproval father seeing significant water main leak news mario luigi go underground fix sucked warp pipe separated mario land mushroom kingdom ruled princess peach luigi arrives dark land ruled evil koopa king bowser bowser seek marry peach destroy mushroom kingdom using super star refuse seeing mario competition peach love bowser imprisons luigi threaten mario meet toad take peach peach plan ally primate kongs help repel bowser train mario allowing toad travel along journey tell mario ended mushroom kingdom baby toad took eventually made leader jungle kingdom king cranky kong agrees help mario defeat son donkey kong fight despite initially overpowered donkey kongs strength mario defeat using cat suit mario peach toad kongs use karts drive back mushroom kingdom bowsers army ambush rainbow road blueshelled koopa general destroys part road mario donkey kong plummet ocean kongs captured peach toad return mushroom kingdom urge citizen evacuate bowser arrives aboard flying castle proposes peach reluctantly accepts bowsers advisor kamek torture toad mario donkey kong swallowed giant eel learn want respect father escape eel riding rocket donkey kongs kart hurry bowser peach wedding wedding ceremony bowser intends sacrifice prisoner peach honor toad smuggles ice flower peach bouquet us freeze bowser chain lowering prisoner lava mario donkey kong fight way bowsers army free prisoner mario using tanooki suit save luigi bowser free launch bomber bill destroy mushroom kingdom mario knock offcourse directs warp pipe detonates creating vacuum suck bowsers castle occupant brooklyn mario attempt grab star attacked enraged bowser swiftly defeat peach toad donkey kong mario see business commercial television motivated face bowser almost incinerates luigi save mario grab super star becoming temporarily invincible defeat koopas destroy bowsers castle incapacitate peach shrink bowser blue mini mushroom toad imprisons jar mario luigi hailed hero brooklyn populace including parent spike sometime later moving house mushroom kingdom mario brother begin day plumbing work together aaron horvath michael jelenic pierre leduc chris pratt anya taylorjoy charlie day']\n"
     ]
    }
   ],
   "source": [
    "## Load BoW from json file\n",
    "\n",
    "if os.path.isfile(jsonfile_path):\n",
    "    with open(jsonfile_path, 'r') as file:\n",
    "        bagOfWords = json.load(file)\n",
    "\n",
    "        print(bagOfWords[:3])\n",
    "else:\n",
    "    print(\"\\nJson file is not found in directory. Please save it first.\")"
   ]
  },
  {
   "cell_type": "code",
   "execution_count": 17,
   "id": "fffee616",
   "metadata": {},
   "outputs": [
    {
     "name": "stdout",
     "output_type": "stream",
     "text": [
      "Shape of vector matrix: (100, 7864)\n",
      "\n",
      "First 3 rows of Vector: \n",
      "<Compressed Sparse Row sparse matrix of dtype 'int64'\n",
      "\twith 743 stored elements and shape (3, 7864)>\n",
      "  Coords\tValues\n",
      "  (0, 6)\t1\n",
      "  (0, 62)\t1\n",
      "  (0, 106)\t1\n",
      "  (0, 124)\t1\n",
      "  (0, 204)\t1\n",
      "  (0, 248)\t1\n",
      "  (0, 262)\t1\n",
      "  (0, 304)\t1\n",
      "  (0, 338)\t1\n",
      "  (0, 342)\t1\n",
      "  (0, 350)\t1\n",
      "  (0, 361)\t1\n",
      "  (0, 393)\t12\n",
      "  (0, 394)\t1\n",
      "  (0, 407)\t1\n",
      "  (0, 432)\t1\n",
      "  (0, 472)\t1\n",
      "  (0, 544)\t2\n",
      "  (0, 554)\t1\n",
      "  (0, 616)\t4\n",
      "  (0, 618)\t1\n",
      "  (0, 624)\t4\n",
      "  (0, 711)\t1\n",
      "  (0, 713)\t1\n",
      "  (0, 723)\t1\n",
      "  :\t:\n",
      "  (2, 6988)\t1\n",
      "  (2, 7007)\t1\n",
      "  (2, 7032)\t1\n",
      "  (2, 7062)\t1\n",
      "  (2, 7063)\t1\n",
      "  (2, 7069)\t1\n",
      "  (2, 7121)\t1\n",
      "  (2, 7181)\t9\n",
      "  (2, 7185)\t1\n",
      "  (2, 7198)\t1\n",
      "  (2, 7212)\t1\n",
      "  (2, 7246)\t1\n",
      "  (2, 7278)\t1\n",
      "  (2, 7386)\t1\n",
      "  (2, 7469)\t1\n",
      "  (2, 7472)\t1\n",
      "  (2, 7475)\t1\n",
      "  (2, 7478)\t3\n",
      "  (2, 7482)\t1\n",
      "  (2, 7610)\t1\n",
      "  (2, 7623)\t2\n",
      "  (2, 7638)\t1\n",
      "  (2, 7643)\t1\n",
      "  (2, 7667)\t2\n",
      "  (2, 7780)\t1\n"
     ]
    }
   ],
   "source": [
    "## Extract features from BagOfWords\n",
    "\n",
    "# Create a vectorizer object\n",
    "vectorizer = CountVectorizer()\n",
    "\n",
    "vectorizer.fit(bagOfWords)\n",
    "\n",
    "# Encode document\n",
    "\n",
    "vector = vectorizer.transform(bagOfWords)\n",
    "\n",
    "print(f\"Shape of vector matrix: {vector.shape}\")\n",
    "\n",
    "print(f\"\\nFirst 3 rows of Vector: \\n{vector[:3]}\")"
   ]
  },
  {
   "cell_type": "code",
   "execution_count": 18,
   "id": "4bcd2277",
   "metadata": {},
   "outputs": [
    {
     "name": "stdout",
     "output_type": "stream",
     "text": [
      "\n",
      "Movie names has been extracted from CSV file.\n"
     ]
    },
    {
     "name": "stderr",
     "output_type": "stream",
     "text": [
      "Preprocessing Movie Names: 100%|██████████| 100/100 [00:00<00:00, 1570.54it/s]"
     ]
    },
    {
     "name": "stdout",
     "output_type": "stream",
     "text": [
      "\n",
      "Movie Names Preprocessing Completed.\n",
      "Before:\n",
      " Inside Out: 2\n",
      "\n",
      "After:\n",
      " inside 2\n",
      "Preprocessed movie names has been converted into a json file\n"
     ]
    },
    {
     "name": "stderr",
     "output_type": "stream",
     "text": [
      "\n"
     ]
    }
   ],
   "source": [
    "## Create and save a list of movies name in BoW for easier checking later on:\n",
    "\n",
    "# Create a huge array to store each movie name\n",
    "movie_names = []\n",
    "\n",
    "for i in range(len(df)):\n",
    "\n",
    "    temp_str = str(df.iloc[i]['Movie Name'])\n",
    "    \n",
    "    movie_names.append(temp_str)\n",
    "\n",
    "print(\"\\nMovie names has been extracted from CSV file.\")\n",
    "\n",
    "# Preprocess movie names\n",
    "\n",
    "preprocessed_names = []\n",
    "\n",
    "for i in tqdm(range(0, len(movie_names)), desc=\"Preprocessing Movie Names\"):\n",
    "    processed_tokens = preprocess_text(movie_names[i])\n",
    "\n",
    "    preprocessed_names.append(processed_tokens)\n",
    "\n",
    "print(\"\\nMovie Names Preprocessing Completed.\")\n",
    "\n",
    "# Show example of movie names before and after\n",
    "print(f\"Before:\\n {movie_names[0]}\\n\")\n",
    "\n",
    "print(f\"After:\\n {preprocessed_names[0]}\")\n",
    "\n",
    "## Save processed movie names as json format\n",
    "\n",
    "base_wd = os.getcwd()\n",
    "\n",
    "jsonfile_name = \"names_BoW.json\"\n",
    "\n",
    "jsonfile_path = os.path.join(base_wd, \"data\", jsonfile_name)\n",
    "\n",
    "with open(jsonfile_path, \"w\") as jsonFile:\n",
    "    json.dump(preprocessed_names, jsonFile)\n",
    "\n",
    "print(\"Preprocessed movie names has been converted into a json file\")"
   ]
  },
  {
   "cell_type": "code",
   "execution_count": 19,
   "id": "2325fd2e",
   "metadata": {},
   "outputs": [
    {
     "data": {
      "text/plain": [
       "'\\nSince everything is going smoothly, now the plan is to create a python script with the following features:\\n    --> 1. Ask user to write a sentence about a movie they would like to see\\n    --> 2. Read the sentence into a string\\n    --> 3. Preprocess the string into a BoW\\n    --> 4. Attach the BoW to the array of BoWs that we have saved \\n    --> 5. Perform a cosine similarity calculation of the matrix to find out what index of movies has the highest similarity with the description (Top 5)\\n    --> 6. Extract the top 5 similarity score \\n    --> 6. Extract information of the top 5 movies saved in the pandas Dataframe\\n    --> 7. Display the first movie with all information sided with a confidence score\\n    --> 8. Ask if this is the movie they want\\n    --> 9. If not repeat steps 7 and 8 for the rest of the 4 movies until movies recommendation ran out\\n    --> 10. Loop back to 1.\\n'"
      ]
     },
     "execution_count": 19,
     "metadata": {},
     "output_type": "execute_result"
    }
   ],
   "source": [
    "\"\"\"\n",
    "Since everything is going smoothly, now the plan is to create a python script with the following features:\n",
    "    --> 1. Ask user to write a sentence about a movie they would like to see\n",
    "    --> 2. Read the sentence into a string\n",
    "    --> 3. Preprocess the string into a BoW\n",
    "    --> 4. Attach the BoW to the array of BoWs that we have saved \n",
    "    --> 5. Perform a cosine similarity calculation of the matrix to find out what index of movies has the highest similarity with the description (Top 5)\n",
    "    --> 6. Extract the top 5 similarity score \n",
    "    --> 6. Extract information of the top 5 movies saved in the pandas Dataframe\n",
    "    --> 7. Display the first movie with all information sided with a confidence score\n",
    "    --> 8. Ask if this is the movie they want\n",
    "    --> 9. If not repeat steps 7 and 8 for the rest of the 4 movies until movies recommendation ran out\n",
    "    --> 10. Loop back to 1.\n",
    "\"\"\""
   ]
  }
 ],
 "metadata": {
  "kernelspec": {
   "display_name": "Python 3",
   "language": "python",
   "name": "python3"
  },
  "language_info": {
   "codemirror_mode": {
    "name": "ipython",
    "version": 3
   },
   "file_extension": ".py",
   "mimetype": "text/x-python",
   "name": "python",
   "nbconvert_exporter": "python",
   "pygments_lexer": "ipython3",
   "version": "3.11.5"
  }
 },
 "nbformat": 4,
 "nbformat_minor": 5
}
