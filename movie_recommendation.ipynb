{
 "cells": [
  {
   "cell_type": "code",
   "execution_count": 1,
   "id": "ab5c1712",
   "metadata": {},
   "outputs": [],
   "source": [
    "import pandas as pd\n",
    "import numpy as np\n",
    "import nltk\n",
    "import os\n",
    "import re\n",
    "import contractions\n",
    "import emoji\n",
    "import json\n",
    "import time\n",
    "\n",
    "from tqdm import tqdm\n",
    "from nltk.tokenize import word_tokenize\n",
    "from nltk.corpus import stopwords\n",
    "from nltk.stem import WordNetLemmatizer\n",
    "from sklearn.feature_extraction.text import CountVectorizer\n",
    "from numpy.dtypes import StringDType\n",
    "from scipy.sparse import csr_matrix"
   ]
  },
  {
   "cell_type": "code",
   "execution_count": 2,
   "id": "d2915bb2",
   "metadata": {},
   "outputs": [
    {
     "name": "stderr",
     "output_type": "stream",
     "text": [
      "[nltk_data] Downloading package punkt to\n",
      "[nltk_data]     C:\\Users\\ADMIN\\AppData\\Roaming\\nltk_data...\n",
      "[nltk_data]   Package punkt is already up-to-date!\n",
      "[nltk_data] Downloading package stopwords to\n",
      "[nltk_data]     C:\\Users\\ADMIN\\AppData\\Roaming\\nltk_data...\n",
      "[nltk_data]   Package stopwords is already up-to-date!\n",
      "[nltk_data] Downloading package wordnet to\n",
      "[nltk_data]     C:\\Users\\ADMIN\\AppData\\Roaming\\nltk_data...\n",
      "[nltk_data]   Package wordnet is already up-to-date!\n"
     ]
    },
    {
     "data": {
      "text/plain": [
       "True"
      ]
     },
     "execution_count": 2,
     "metadata": {},
     "output_type": "execute_result"
    }
   ],
   "source": [
    "# For tokenization\n",
    "nltk.download('punkt')\n",
    "\n",
    "# For removing stopwords\n",
    "nltk.download('stopwords')\n",
    "\n",
    "# For lemmatization\n",
    "nltk.download('wordnet')"
   ]
  },
  {
   "cell_type": "code",
   "execution_count": 3,
   "id": "80a62f62",
   "metadata": {},
   "outputs": [
    {
     "name": "stdout",
     "output_type": "stream",
     "text": [
      "     movie_id                                         movie_name  year  \\\n",
      "0   tt3915174                       Puss in Boots: The Last Wish  2022   \n",
      "1   tt6718170                        The Super Mario Bros. Movie  2023   \n",
      "2  tt26537229  Demon Slayer: Kimetsu No Yaiba - To the Swords...  2023   \n",
      "3   tt1488589                     Guillermo del Toro's Pinocchio  2022   \n",
      "4  tt14668630                              Lyle, Lyle, Crocodile  2022   \n",
      "\n",
      "  certificate  runtime                         genre  rating  \\\n",
      "0          PG  102 min  Animation, Adventure, Comedy     7.9   \n",
      "1          PG   92 min  Animation, Adventure, Comedy     NaN   \n",
      "2           R  110 min  Animation, Action, Adventure     6.6   \n",
      "3          PG  117 min      Animation, Drama, Family     7.6   \n",
      "4          PG  106 min  Animation, Adventure, Comedy     6.1   \n",
      "\n",
      "                                         description  \\\n",
      "0  When Puss in Boots discovers that his passion ...   \n",
      "1  The story of The Super Mario Bros. on their jo...   \n",
      "2  All the Upper Rank Demons assemble at the Infi...   \n",
      "3  A father's wish magically brings a wooden boy ...   \n",
      "4  Feature film based on the children's book abou...   \n",
      "\n",
      "                                 director       director_id  \\\n",
      "0       Joel Crawford, \\r\\nJanuel Mercado  /name/nm3150455/   \n",
      "1      Aaron Horvath, \\r\\nMichael Jelenic  /name/nm1739338/   \n",
      "2                          Haruo Sotozaki  /name/nm1417038/   \n",
      "3  Guillermo del Toro, \\r\\nMark Gustafson  /name/nm0868219/   \n",
      "4             Josh Gordon, \\r\\nWill Speck  /name/nm0330347/   \n",
      "\n",
      "                                                star  \\\n",
      "0  Antonio Banderas, \\r\\nSalma Hayek, \\r\\nHarvey ...   \n",
      "1  Chris Pratt, \\r\\nAnya Taylor-Joy, \\r\\nCharlie ...   \n",
      "2  Zach Aguilar, \\r\\nKira Buckland, \\r\\nGriffin B...   \n",
      "3  Ewan McGregor, \\r\\nDavid Bradley, \\r\\nGregory ...   \n",
      "4  Javier Bardem, \\r\\nWinslow Fegley, \\r\\nShawn M...   \n",
      "\n",
      "                                             star_id    votes  gross(in $)  \n",
      "0  /name/nm2591093/,/name/nm0000104/,/name/nm0000...  93143.0  168464485.0  \n",
      "1  /name/nm2398585/,/name/nm0695435/,/name/nm5896...      NaN          NaN  \n",
      "2  /name/nm6450743/,/name/nm2299231/,/name/nm4232...   1316.0          NaN  \n",
      "3  /name/nm0348993/,/name/nm0000191/,/name/nm0103...  86296.0          NaN  \n",
      "4  /name/nm0817447/,/name/nm0000849/,/name/nm9121...   9351.0   46888441.0  \n"
     ]
    }
   ],
   "source": [
    "base_wd = os.getcwd()\n",
    "\n",
    "csv_path = os.path.join(\"data\", \"animation.csv\")\n",
    "\n",
    "df = pd.read_csv(csv_path)\n",
    "\n",
    "print(df.head(5))"
   ]
  },
  {
   "cell_type": "code",
   "execution_count": 4,
   "id": "fe0755a2",
   "metadata": {},
   "outputs": [
    {
     "data": {
      "text/plain": [
       "\"\\nThis is a dataset scraped from the IMDB movie rating website regarding movies of the 'animation' genre.\\n\\nThis dataset is provided from: https://www.kaggle.com/datasets/rajugc/imdb-movies-dataset-based-on-genre?select=animation.csv \\n\\n\""
      ]
     },
     "execution_count": 4,
     "metadata": {},
     "output_type": "execute_result"
    }
   ],
   "source": [
    "\"\"\"\n",
    "This is a dataset scraped from the IMDB movie rating website regarding movies of the 'animation' genre.\n",
    "\n",
    "This dataset is provided from: https://www.kaggle.com/datasets/rajugc/imdb-movies-dataset-based-on-genre?select=animation.csv \n",
    "\n",
    "\"\"\""
   ]
  },
  {
   "cell_type": "code",
   "execution_count": 5,
   "id": "0180e40a",
   "metadata": {},
   "outputs": [
    {
     "name": "stdout",
     "output_type": "stream",
     "text": [
      "Number of movies: 8419\n",
      "\n",
      "Example movie:\n",
      "movie_id                                               tt3915174\n",
      "movie_name                          Puss in Boots: The Last Wish\n",
      "year                                                        2022\n",
      "certificate                                                   PG\n",
      "runtime                                                  102 min\n",
      "genre                               Animation, Adventure, Comedy\n",
      "rating                                                       7.9\n",
      "description    When Puss in Boots discovers that his passion ...\n",
      "director                       Joel Crawford, \\r\\nJanuel Mercado\n",
      "director_id                                     /name/nm3150455/\n",
      "star           Antonio Banderas, \\r\\nSalma Hayek, \\r\\nHarvey ...\n",
      "star_id        /name/nm2591093/,/name/nm0000104/,/name/nm0000...\n",
      "votes                                                    93143.0\n",
      "gross(in $)                                          168464485.0\n",
      "Name: 0, dtype: object\n"
     ]
    }
   ],
   "source": [
    "print(f\"Number of movies: {len(df)}\\n\")\n",
    "\n",
    "print(\"Example movie:\")\n",
    "print(df.iloc[0])"
   ]
  },
  {
   "cell_type": "code",
   "execution_count": 6,
   "id": "ab699071",
   "metadata": {},
   "outputs": [
    {
     "name": "stdout",
     "output_type": "stream",
     "text": [
      "After retaining wanted features: \n",
      "\n",
      "                                          movie_name  year  \\\n",
      "0                       Puss in Boots: The Last Wish  2022   \n",
      "1                        The Super Mario Bros. Movie  2023   \n",
      "2  Demon Slayer: Kimetsu No Yaiba - To the Swords...  2023   \n",
      "\n",
      "                          genre  \\\n",
      "0  Animation, Adventure, Comedy   \n",
      "1  Animation, Adventure, Comedy   \n",
      "2  Animation, Action, Adventure   \n",
      "\n",
      "                                         description  \\\n",
      "0  When Puss in Boots discovers that his passion ...   \n",
      "1  The story of The Super Mario Bros. on their jo...   \n",
      "2  All the Upper Rank Demons assemble at the Infi...   \n",
      "\n",
      "                             director  \\\n",
      "0   Joel Crawford, \\r\\nJanuel Mercado   \n",
      "1  Aaron Horvath, \\r\\nMichael Jelenic   \n",
      "2                      Haruo Sotozaki   \n",
      "\n",
      "                                                star  \n",
      "0  Antonio Banderas, \\r\\nSalma Hayek, \\r\\nHarvey ...  \n",
      "1  Chris Pratt, \\r\\nAnya Taylor-Joy, \\r\\nCharlie ...  \n",
      "2  Zach Aguilar, \\r\\nKira Buckland, \\r\\nGriffin B...  \n"
     ]
    }
   ],
   "source": [
    "## Removing unnessary features\n",
    "\n",
    "\"\"\"\n",
    "Important informations about a movie that is memorable and easily identified which users can remember:\n",
    "    --> Movie name\n",
    "    --> Year\n",
    "    --> Genre\n",
    "    --> Description\n",
    "    --> Director\n",
    "    --> Star\n",
    "\n",
    "We will only save these informations since other fields of data are not that significant for the users.\n",
    "\n",
    "Hence, we will drop features of:\n",
    "    --> movie_id\n",
    "    --> certificate\n",
    "    --> runtime\n",
    "    --> rating\n",
    "    --> director_id\n",
    "    --> star_id\n",
    "    --> votes\n",
    "    --> gross(in $)\n",
    "\n",
    "\"\"\"\n",
    "\n",
    "new_df = df.drop('movie_id', axis='columns')\n",
    "new_df = new_df.drop('certificate', axis='columns')\n",
    "new_df = new_df.drop('runtime', axis='columns')\n",
    "new_df = new_df.drop('rating', axis='columns')\n",
    "new_df = new_df.drop('director_id', axis='columns')\n",
    "new_df = new_df.drop('star_id', axis='columns')\n",
    "new_df = new_df.drop('votes', axis='columns')\n",
    "new_df = new_df.drop('gross(in $)', axis='columns')\n",
    "\n",
    "print(\"After retaining wanted features: \\n\")\n",
    "print(new_df.head(3))"
   ]
  },
  {
   "cell_type": "code",
   "execution_count": 7,
   "id": "ceb86c91",
   "metadata": {},
   "outputs": [
    {
     "name": "stdout",
     "output_type": "stream",
     "text": [
      "Missing values in movie_name: 0\n",
      "Missing values in year: 1369\n",
      "Missing values in genre: 0\n",
      "Missing values in description: 0\n",
      "Missing values in director: 902\n",
      "Missing values in star: 2849\n"
     ]
    }
   ],
   "source": [
    "## Check for any missing values in the dataset\n",
    "\n",
    "def nan_counter(feature_name: str, df: pd.DataFrame):\n",
    "    nan_count = df[feature_name].isnull().sum()\n",
    "\n",
    "    print(f\"Missing values in {feature_name}: {nan_count}\")\n",
    "\n",
    "nan_counter(\"movie_name\", new_df)\n",
    "nan_counter(\"year\", new_df)\n",
    "nan_counter(\"genre\", new_df)\n",
    "nan_counter(\"description\", new_df)\n",
    "nan_counter(\"director\", new_df)\n",
    "nan_counter(\"star\", new_df)"
   ]
  },
  {
   "cell_type": "code",
   "execution_count": 8,
   "id": "5d3b9779",
   "metadata": {},
   "outputs": [
    {
     "name": "stdout",
     "output_type": "stream",
     "text": [
      "Number of movies after cleansing dataset: 5291\n",
      "\n",
      "Example of movie:\n",
      "movie_name                                        Bigfoot Family\n",
      "year                                                        2020\n",
      "genre                               Animation, Adventure, Family\n",
      "description    Follow up to Son of Bigfoot: Father uses his n...\n",
      "director                        Jeremy Degruson, \\r\\nBen Stassen\n",
      "star           Jules Medcraft, \\r\\nKylian Trouillard, \\r\\nAle...\n",
      "Name: 457, dtype: object\n"
     ]
    }
   ],
   "source": [
    "## Dropping rows of data which are missing values\n",
    "\n",
    "# Due to the nature of movie recommendations must provide real data, we cannot replace missing data using simple techniques such as imputation technique or forward/backward fill\n",
    "\n",
    "# As such we must drop them\n",
    "\n",
    "new_df = new_df.dropna(axis=0)\n",
    "\n",
    "print(f\"Number of movies after cleansing dataset: {len(new_df)}\\n\")\n",
    "\n",
    "print(f\"Example of movie:\\n{new_df.iloc[450]}\")"
   ]
  },
  {
   "cell_type": "code",
   "execution_count": 9,
   "id": "88a20c7c",
   "metadata": {},
   "outputs": [
    {
     "name": "stdout",
     "output_type": "stream",
     "text": [
      "Number of movies after cleansing dataset: 5245\n"
     ]
    }
   ],
   "source": [
    "## Dropping rows of duplicate values\n",
    "\n",
    "new_df = new_df.drop_duplicates(subset=['movie_name'])\n",
    "\n",
    "print(f\"Number of movies after cleansing dataset: {len(new_df)}\")"
   ]
  },
  {
   "cell_type": "code",
   "execution_count": 10,
   "id": "f519a8cd",
   "metadata": {},
   "outputs": [
    {
     "name": "stdout",
     "output_type": "stream",
     "text": [
      "Number of movies after cleansing dataset: 4521\n"
     ]
    }
   ],
   "source": [
    "## Remove movies that don't have plot description or filler descriptions\n",
    "\n",
    "new_df = new_df[new_df[\"description\"].str.contains(\"Add a Plot\") == False]\n",
    "\n",
    "print(f\"Number of movies after cleansing dataset: {len(new_df)}\")"
   ]
  },
  {
   "cell_type": "code",
   "execution_count": 11,
   "id": "9a58114e",
   "metadata": {},
   "outputs": [
    {
     "name": "stdout",
     "output_type": "stream",
     "text": [
      "                                    movie_name  year      genre  \\\n",
      "count                                     4521  4521       4521   \n",
      "unique                                    4521    98        151   \n",
      "top     Dive Olly Dive: A Hero's Magical Quest  2019  Animation   \n",
      "freq                                         1   306        791   \n",
      "\n",
      "                                              description   director  \\\n",
      "count                                                4521       4521   \n",
      "unique                                               4509       3206   \n",
      "top     Short animation film from the series 'Garabatos'.  Leon Ding   \n",
      "freq                                                    7         32   \n",
      "\n",
      "                                                     star  \n",
      "count                                                4521  \n",
      "unique                                               4300  \n",
      "top     Nobuyo Ôyama, \\r\\nNoriko Ohara, \\r\\nMichiko No...  \n",
      "freq                                                   20  \n"
     ]
    }
   ],
   "source": [
    "## Creating a short description of dataset\n",
    "\n",
    "print(new_df.describe())"
   ]
  },
  {
   "cell_type": "code",
   "execution_count": 30,
   "id": "bca23f11",
   "metadata": {},
   "outputs": [],
   "source": [
    "## Save new dataframe as csv\n",
    "\n",
    "base_wd = os.getcwd()\n",
    "\n",
    "df_csv_path = os.path.join(base_wd, \"data\", \"cleanedAnimation.csv\")\n",
    "\n",
    "new_df.to_csv(df_csv_path)"
   ]
  },
  {
   "cell_type": "code",
   "execution_count": 12,
   "id": "77403ea0",
   "metadata": {},
   "outputs": [
    {
     "name": "stderr",
     "output_type": "stream",
     "text": [
      "C:\\Users\\ADMIN\\AppData\\Local\\Temp\\ipykernel_11880\\3642632563.py:8: FutureWarning: Series.__getitem__ treating keys as positions is deprecated. In a future version, integer keys will always be treated as labels (consistent with DataFrame behavior). To access a value by position, use `ser.iloc[pos]`\n",
      "  temp_str = temp_str + str(new_df.iloc[i][j]) + \" \"\n"
     ]
    },
    {
     "name": "stdout",
     "output_type": "stream",
     "text": [
      "Number of movies: 4521\n",
      "\n",
      "Example of movie information string: \n",
      "2022 Animation, Adventure, Comedy When Puss in Boots discovers that his passion for adventure has taken its toll and he has burned through eight of his nine lives, he launches an epic journey to restore them by finding the mythical Last Wish. Joel Crawford, \n",
      "Januel Mercado Antonio Banderas, \n",
      "Salma Hayek, \n",
      "Harvey Guillén, \n",
      "Florence Pugh \n"
     ]
    }
   ],
   "source": [
    "## Create a huge array to store BagOfWords of each movie information\n",
    "\n",
    "df_str = []\n",
    "\n",
    "for i in range(len(new_df)):\n",
    "    temp_str = \"\"\n",
    "    for j in range(1, len(new_df.iloc[0])): # Exclude the name of movies to be included\n",
    "         temp_str = temp_str + str(new_df.iloc[i][j]) + \" \"\n",
    "    \n",
    "    df_str.append(temp_str)\n",
    "\n",
    "print(f\"Number of movies: {len(df_str)}\")\n",
    "print(f\"\\nExample of movie information string: \\n{df_str[0]}\")"
   ]
  },
  {
   "cell_type": "code",
   "execution_count": null,
   "id": "6592e2d8",
   "metadata": {},
   "outputs": [],
   "source": [
    "## Create preprocess pipeline for the text strings per movie\n",
    "\n",
    "def preprocess_text(text_str: str):\n",
    "\n",
    "    \"\"\"\n",
    "    Remove characters that are not characters of \n",
    "        --> a - z\n",
    "        --> A - Z\n",
    "        --> 0 - 9\n",
    "    \"\"\"\n",
    "\n",
    "    clean_text = re.sub(r'[^a-zA-Z0-9\\s]', '', text_str) \n",
    "\n",
    "    # Turns all uppercase alphabets to lowercase\n",
    "    clean_text = clean_text.lower()\n",
    "\n",
    "    # Tokenize string of text into individual units\n",
    "    tokenized_text = word_tokenize(clean_text)\n",
    "\n",
    "    # Remove stopwords which provide little to none useful information\n",
    "    stop_words = set(stopwords.words('english'))\n",
    "    \n",
    "    filtered_text = [token for token in tokenized_text if token not in stop_words]\n",
    "\n",
    "    # Lemmatization of tokens\n",
    "    lemmatizer = WordNetLemmatizer()\n",
    "    lemmatized_text = []\n",
    "\n",
    "    for token in filtered_text:\n",
    "        lemmatized_text.append(lemmatizer.lemmatize(token))\n",
    "    \n",
    "    # Process contractions (words with apostrophe) by replacing them with words of similar meaning\n",
    "    expanded_text = [contractions.fix(token) for token in lemmatized_text]\n",
    "\n",
    "    # Handle emojis and emoticons\n",
    "    emoji_clean_text = [emoji.demojize(token) for token in expanded_text]\n",
    "\n",
    "    # Rejoin into a BoW for each token in a movie information\n",
    "    string_BoW = \" \".join(emoji_clean_text)\n",
    "\n",
    "    return string_BoW"
   ]
  },
  {
   "cell_type": "code",
   "execution_count": 14,
   "id": "564bb856",
   "metadata": {},
   "outputs": [
    {
     "name": "stdout",
     "output_type": "stream",
     "text": [
      "Before:\n",
      " 2022 Animation, Adventure, Comedy When Puss in Boots discovers that his passion for adventure has taken its toll and he has burned through eight of his nine lives, he launches an epic journey to restore them by finding the mythical Last Wish. Joel Crawford, \n",
      "Januel Mercado Antonio Banderas, \n",
      "Salma Hayek, \n",
      "Harvey Guillén, \n",
      "Florence Pugh \n",
      "\n",
      "After:\n",
      " 2022 animation adventure comedy pus boot discovers passion adventure taken toll burned eight nine life launch epic journey restore finding mythical last wish joel crawford januel mercado antonio banderas salma hayek harvey guilln florence pugh \n"
     ]
    }
   ],
   "source": [
    "## Example of Text Preprocessing\n",
    "\n",
    "print(f\"Before:\\n {df_str[0]}\\n\")\n",
    "\n",
    "print(f\"After:\\n {preprocess_text(df_str[0])}\")"
   ]
  },
  {
   "cell_type": "code",
   "execution_count": 22,
   "id": "b4ebfd31",
   "metadata": {},
   "outputs": [
    {
     "name": "stderr",
     "output_type": "stream",
     "text": [
      "Preprocessing BagOfWords: 100%|██████████| 4521/4521 [00:02<00:00, 2204.27it/s]"
     ]
    },
    {
     "name": "stdout",
     "output_type": "stream",
     "text": [
      "\n",
      "BoW Preprocessing Completed\n"
     ]
    },
    {
     "name": "stderr",
     "output_type": "stream",
     "text": [
      "\n"
     ]
    }
   ],
   "source": [
    "## Preprocess BagOfWords\n",
    "\n",
    "preprocessed_bow = []\n",
    "\n",
    "for i in tqdm(range(0, len(df_str)), desc=\"Preprocessing BagOfWords\"):\n",
    "    processed_tokens = preprocess_text(df_str[i])\n",
    "\n",
    "    if processed_tokens == None:\n",
    "        print(f\"{i}\\n\")\n",
    "        continue\n",
    "    \n",
    "    preprocessed_bow.append(processed_tokens)\n",
    "\n",
    "print(\"\\nBoW Preprocessing Completed\")"
   ]
  },
  {
   "cell_type": "code",
   "execution_count": 16,
   "id": "48f3d718",
   "metadata": {},
   "outputs": [],
   "source": [
    "## Save processed BoW as json format\n",
    "\n",
    "base_wd = os.getcwd()\n",
    "\n",
    "jsonfile_name = \"ori_BoW.json\"\n",
    "\n",
    "jsonfile_path = os.path.join(base_wd, \"data\", jsonfile_name)"
   ]
  },
  {
   "cell_type": "code",
   "execution_count": 17,
   "id": "d47e1bde",
   "metadata": {},
   "outputs": [
    {
     "name": "stdout",
     "output_type": "stream",
     "text": [
      "BagOfWords array has been converted into a json file\n"
     ]
    }
   ],
   "source": [
    "with open(jsonfile_path, \"w\") as jsonFile:\n",
    "    json.dump(preprocessed_bow, jsonFile)\n",
    "\n",
    "print(\"BagOfWords array has been converted into a json file\")"
   ]
  },
  {
   "cell_type": "code",
   "execution_count": 18,
   "id": "a6a19963",
   "metadata": {},
   "outputs": [
    {
     "name": "stdout",
     "output_type": "stream",
     "text": [
      "['2022 animation adventure comedy pus boot discovers passion adventure taken toll burned eight nine life launch epic journey restore finding mythical last wish joel crawford januel mercado antonio banderas salma hayek harvey guilln florence pugh ', '2023 animation adventure comedy story super mario bros journey mushroom kingdom aaron horvath michael jelenic chris pratt anya taylorjoy charlie day jack black ', '2023 animation action adventure upper rank demon assemble infinity castle upper six demon defeat haruo sotozaki zach aguilar kira buckland griffin burn ray chase ']\n"
     ]
    }
   ],
   "source": [
    "## Load BoW from json file\n",
    "\n",
    "if os.path.isfile(jsonfile_path):\n",
    "    with open(jsonfile_path, 'r') as file:\n",
    "        bagOfWords = json.load(file)\n",
    "\n",
    "        print(bagOfWords[:3])\n",
    "else:\n",
    "    print(\"\\nJson file is not found in directory. Please save it first.\")"
   ]
  },
  {
   "cell_type": "code",
   "execution_count": 19,
   "id": "016e6b3d",
   "metadata": {},
   "outputs": [
    {
     "name": "stdout",
     "output_type": "stream",
     "text": [
      "Shape of vector matrix: (4521, 28787)\n",
      "\n",
      "First 3 rows of Vector: \n",
      "<Compressed Sparse Row sparse matrix of dtype 'int64'\n",
      "\twith 79 stored elements and shape (3, 28787)>\n",
      "  Coords\tValues\n",
      "  (0, 198)\t1\n",
      "  (0, 590)\t2\n",
      "  (0, 1367)\t1\n",
      "  (0, 1467)\t1\n",
      "  (0, 2468)\t1\n",
      "  (0, 3596)\t1\n",
      "  (0, 4176)\t1\n",
      "  (0, 5619)\t1\n",
      "  (0, 6091)\t1\n",
      "  (0, 7224)\t1\n",
      "  (0, 7969)\t1\n",
      "  (0, 8377)\t1\n",
      "  (0, 9205)\t1\n",
      "  (0, 9349)\t1\n",
      "  (0, 10889)\t1\n",
      "  (0, 11329)\t1\n",
      "  (0, 11419)\t1\n",
      "  (0, 13155)\t1\n",
      "  (0, 13417)\t1\n",
      "  (0, 13524)\t1\n",
      "  (0, 15239)\t1\n",
      "  (0, 15263)\t1\n",
      "  (0, 15565)\t1\n",
      "  (0, 17181)\t1\n",
      "  (0, 18203)\t1\n",
      "  :\t:\n",
      "  (1, 24644)\t1\n",
      "  (1, 24911)\t1\n",
      "  (1, 25467)\t1\n",
      "  (2, 199)\t1\n",
      "  (2, 477)\t1\n",
      "  (2, 590)\t1\n",
      "  (2, 688)\t1\n",
      "  (2, 1367)\t1\n",
      "  (2, 1920)\t1\n",
      "  (2, 4059)\t1\n",
      "  (2, 4175)\t1\n",
      "  (2, 4647)\t1\n",
      "  (2, 4932)\t1\n",
      "  (2, 6715)\t1\n",
      "  (2, 6832)\t2\n",
      "  (2, 10744)\t1\n",
      "  (2, 11325)\t1\n",
      "  (2, 12616)\t1\n",
      "  (2, 14412)\t1\n",
      "  (2, 21223)\t1\n",
      "  (2, 21298)\t1\n",
      "  (2, 23859)\t1\n",
      "  (2, 24227)\t1\n",
      "  (2, 26842)\t2\n",
      "  (2, 28528)\t1\n"
     ]
    }
   ],
   "source": [
    "## Extract features from BagOfWords\n",
    "\n",
    "# Create a vectorizer object\n",
    "vectorizer = CountVectorizer()\n",
    "\n",
    "vectorizer.fit(bagOfWords)\n",
    "\n",
    "# Encode document\n",
    "\n",
    "vector = vectorizer.transform(bagOfWords)\n",
    "\n",
    "print(f\"Shape of vector matrix: {vector.shape}\")\n",
    "\n",
    "print(f\"\\nFirst 3 rows of Vector: \\n{vector[:3]}\")"
   ]
  },
  {
   "cell_type": "code",
   "execution_count": null,
   "id": "f2b25de3",
   "metadata": {},
   "outputs": [
    {
     "name": "stdout",
     "output_type": "stream",
     "text": [
      "\n",
      "Movie names has been extracted from CSV file.\n"
     ]
    },
    {
     "name": "stderr",
     "output_type": "stream",
     "text": [
      "Preprocessing Movie Names: 100%|██████████| 4521/4521 [00:00<00:00, 6067.27it/s]"
     ]
    },
    {
     "name": "stdout",
     "output_type": "stream",
     "text": [
      "\n",
      "Movie Names Preprocessing Completed.\n",
      "Before:\n",
      " Puss in Boots: The Last Wish\n",
      "\n",
      "After:\n",
      " pus boot last wish \n",
      "Preprocessed movie names has been converted into a json file\n"
     ]
    },
    {
     "name": "stderr",
     "output_type": "stream",
     "text": [
      "\n"
     ]
    }
   ],
   "source": [
    "## Create and save a list of movies name in BoW for easier checking later on:\n",
    "\n",
    "# Create a huge array to store each movie name\n",
    "movie_names = []\n",
    "\n",
    "for i in range(len(new_df)):\n",
    "\n",
    "    temp_str = str(new_df.iloc[i]['movie_name'])\n",
    "    \n",
    "    movie_names.append(temp_str)\n",
    "\n",
    "print(\"\\nMovie names has been extracted from CSV file.\")\n",
    "\n",
    "# Preprocess movie names\n",
    "\n",
    "preprocessed_names = []\n",
    "\n",
    "for i in tqdm(range(0, len(movie_names)), desc=\"Preprocessing Movie Names\"):\n",
    "    processed_tokens = preprocess_text(movie_names[i])\n",
    "\n",
    "    preprocessed_names.append(processed_tokens)\n",
    "\n",
    "print(\"\\nMovie Names Preprocessing Completed.\")\n",
    "\n",
    "# Show example of movie names before and after\n",
    "print(f\"Before:\\n {movie_names[0]}\\n\")\n",
    "\n",
    "print(f\"After:\\n {preprocessed_names[0]}\")\n",
    "\n",
    "## Save processed movie names as json format\n",
    "\n",
    "base_wd = os.getcwd()\n",
    "\n",
    "jsonfile_name = \"names_BoW.json\"\n",
    "\n",
    "jsonfile_path = os.path.join(base_wd, \"data\", jsonfile_name)\n",
    "\n",
    "with open(jsonfile_path, \"w\") as jsonFile:\n",
    "    json.dump(preprocessed_names, jsonFile)\n",
    "\n",
    "print(\"Preprocessed movie names has been converted into a json file\")"
   ]
  },
  {
   "cell_type": "code",
   "execution_count": 20,
   "id": "26957135",
   "metadata": {},
   "outputs": [
    {
     "data": {
      "text/plain": [
       "'\\nSince everything is going smoothly, now the plan is to create a python script with the following features:\\n    --> 1. Ask user to write a sentence about a movie they would like to see\\n    --> 2. Read the sentence into a string\\n    --> 3. Preprocess the string into a BoW\\n    --> 4. Attach the BoW to the array of BoWs that we have saved \\n    --> 5. Perform a cosine similarity calculation of the matrix to find out what index of movies has the highest similarity with the description (Top 5)\\n    --> 6. Extract the top 5 similarity score \\n    --> 6. Extract information of the top 5 movies saved in the pandas Dataframe\\n    --> 7. Display the first movie with all information sided with a confidence score\\n    --> 8. Ask if this is the movie they want\\n    --> 9. If not repeat steps 7 and 8 for the rest of the 4 movies until movies recommendation ran out\\n    --> 10. Loop back to 1.\\n'"
      ]
     },
     "execution_count": 20,
     "metadata": {},
     "output_type": "execute_result"
    }
   ],
   "source": [
    "\"\"\"\n",
    "Since everything is going smoothly, now the plan is to create a python script with the following features:\n",
    "    --> 1. Ask user to write a sentence about a movie they would like to see\n",
    "    --> 2. Read the sentence into a string\n",
    "    --> 3. Preprocess the string into a BoW\n",
    "    --> 4. Attach the BoW to the array of BoWs that we have saved \n",
    "    --> 5. Perform a cosine similarity calculation of the matrix to find out what index of movies has the highest similarity with the description (Top 5)\n",
    "    --> 6. Extract the top 5 similarity score \n",
    "    --> 6. Extract information of the top 5 movies saved in the pandas Dataframe\n",
    "    --> 7. Display the first movie with all information sided with a confidence score\n",
    "    --> 8. Ask if this is the movie they want\n",
    "    --> 9. If not repeat steps 7 and 8 for the rest of the 4 movies until movies recommendation ran out\n",
    "    --> 10. Loop back to 1.\n",
    "\"\"\""
   ]
  }
 ],
 "metadata": {
  "kernelspec": {
   "display_name": "Python 3",
   "language": "python",
   "name": "python3"
  },
  "language_info": {
   "codemirror_mode": {
    "name": "ipython",
    "version": 3
   },
   "file_extension": ".py",
   "mimetype": "text/x-python",
   "name": "python",
   "nbconvert_exporter": "python",
   "pygments_lexer": "ipython3",
   "version": "3.13.3"
  }
 },
 "nbformat": 4,
 "nbformat_minor": 5
}
