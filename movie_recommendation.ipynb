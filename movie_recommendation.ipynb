{
 "cells": [
  {
   "cell_type": "code",
   "execution_count": 41,
   "id": "ab5c1712",
   "metadata": {},
   "outputs": [],
   "source": [
    "import pandas as pd\n",
    "import nltk\n",
    "import os"
   ]
  },
  {
   "cell_type": "code",
   "execution_count": 42,
   "id": "80a62f62",
   "metadata": {},
   "outputs": [
    {
     "name": "stdout",
     "output_type": "stream",
     "text": [
      "     movie_id                                         movie_name  year  \\\n",
      "0   tt3915174                       Puss in Boots: The Last Wish  2022   \n",
      "1   tt6718170                        The Super Mario Bros. Movie  2023   \n",
      "2  tt26537229  Demon Slayer: Kimetsu No Yaiba - To the Swords...  2023   \n",
      "3   tt1488589                     Guillermo del Toro's Pinocchio  2022   \n",
      "4  tt14668630                              Lyle, Lyle, Crocodile  2022   \n",
      "\n",
      "  certificate  runtime                         genre  rating  \\\n",
      "0          PG  102 min  Animation, Adventure, Comedy     7.9   \n",
      "1          PG   92 min  Animation, Adventure, Comedy     NaN   \n",
      "2           R  110 min  Animation, Action, Adventure     6.6   \n",
      "3          PG  117 min      Animation, Drama, Family     7.6   \n",
      "4          PG  106 min  Animation, Adventure, Comedy     6.1   \n",
      "\n",
      "                                         description  \\\n",
      "0  When Puss in Boots discovers that his passion ...   \n",
      "1  The story of The Super Mario Bros. on their jo...   \n",
      "2  All the Upper Rank Demons assemble at the Infi...   \n",
      "3  A father's wish magically brings a wooden boy ...   \n",
      "4  Feature film based on the children's book abou...   \n",
      "\n",
      "                               director       director_id  \\\n",
      "0       Joel Crawford, \\nJanuel Mercado  /name/nm3150455/   \n",
      "1      Aaron Horvath, \\nMichael Jelenic  /name/nm1739338/   \n",
      "2                        Haruo Sotozaki  /name/nm1417038/   \n",
      "3  Guillermo del Toro, \\nMark Gustafson  /name/nm0868219/   \n",
      "4             Josh Gordon, \\nWill Speck  /name/nm0330347/   \n",
      "\n",
      "                                                star  \\\n",
      "0  Antonio Banderas, \\nSalma Hayek, \\nHarvey Guil...   \n",
      "1  Chris Pratt, \\nAnya Taylor-Joy, \\nCharlie Day,...   \n",
      "2  Zach Aguilar, \\nKira Buckland, \\nGriffin Burns...   \n",
      "3  Ewan McGregor, \\nDavid Bradley, \\nGregory Mann...   \n",
      "4  Javier Bardem, \\nWinslow Fegley, \\nShawn Mende...   \n",
      "\n",
      "                                             star_id    votes  gross(in $)  \n",
      "0  /name/nm2591093/,/name/nm0000104/,/name/nm0000...  93143.0  168464485.0  \n",
      "1  /name/nm2398585/,/name/nm0695435/,/name/nm5896...      NaN          NaN  \n",
      "2  /name/nm6450743/,/name/nm2299231/,/name/nm4232...   1316.0          NaN  \n",
      "3  /name/nm0348993/,/name/nm0000191/,/name/nm0103...  86296.0          NaN  \n",
      "4  /name/nm0817447/,/name/nm0000849/,/name/nm9121...   9351.0   46888441.0  \n"
     ]
    }
   ],
   "source": [
    "base_wd = os.getcwd()\n",
    "\n",
    "csv_path = os.path.join(\"data\", \"animation.csv\")\n",
    "\n",
    "df = pd.read_csv(csv_path)\n",
    "\n",
    "print(df.head(5))"
   ]
  },
  {
   "cell_type": "code",
   "execution_count": 43,
   "id": "fe0755a2",
   "metadata": {},
   "outputs": [
    {
     "data": {
      "text/plain": [
       "\"\\nThis is a dataset scraped from the IMDB movie rating website regarding movies of the 'animation' genre.\\n\\nThis dataset is provided from: https://www.kaggle.com/datasets/rajugc/imdb-movies-dataset-based-on-genre?select=animation.csv \\n\\n\""
      ]
     },
     "execution_count": 43,
     "metadata": {},
     "output_type": "execute_result"
    }
   ],
   "source": [
    "\"\"\"\n",
    "This is a dataset scraped from the IMDB movie rating website regarding movies of the 'animation' genre.\n",
    "\n",
    "This dataset is provided from: https://www.kaggle.com/datasets/rajugc/imdb-movies-dataset-based-on-genre?select=animation.csv \n",
    "\n",
    "\"\"\""
   ]
  },
  {
   "cell_type": "code",
   "execution_count": 44,
   "id": "0180e40a",
   "metadata": {},
   "outputs": [
    {
     "name": "stdout",
     "output_type": "stream",
     "text": [
      "Number of movies: 8419\n",
      "\n",
      "Example movie:\n",
      "movie_id                                               tt3915174\n",
      "movie_name                          Puss in Boots: The Last Wish\n",
      "year                                                        2022\n",
      "certificate                                                   PG\n",
      "runtime                                                  102 min\n",
      "genre                               Animation, Adventure, Comedy\n",
      "rating                                                       7.9\n",
      "description    When Puss in Boots discovers that his passion ...\n",
      "director                         Joel Crawford, \\nJanuel Mercado\n",
      "director_id                                     /name/nm3150455/\n",
      "star           Antonio Banderas, \\nSalma Hayek, \\nHarvey Guil...\n",
      "star_id        /name/nm2591093/,/name/nm0000104/,/name/nm0000...\n",
      "votes                                                    93143.0\n",
      "gross(in $)                                          168464485.0\n",
      "Name: 0, dtype: object\n"
     ]
    }
   ],
   "source": [
    "print(f\"Number of movies: {len(df)}\\n\")\n",
    "\n",
    "print(\"Example movie:\")\n",
    "print(df.iloc[0])"
   ]
  },
  {
   "cell_type": "code",
   "execution_count": 45,
   "id": "ab699071",
   "metadata": {},
   "outputs": [
    {
     "name": "stdout",
     "output_type": "stream",
     "text": [
      "After retaining wanted features: \n",
      "\n",
      "                                          movie_name  year  \\\n",
      "0                       Puss in Boots: The Last Wish  2022   \n",
      "1                        The Super Mario Bros. Movie  2023   \n",
      "2  Demon Slayer: Kimetsu No Yaiba - To the Swords...  2023   \n",
      "\n",
      "                          genre  \\\n",
      "0  Animation, Adventure, Comedy   \n",
      "1  Animation, Adventure, Comedy   \n",
      "2  Animation, Action, Adventure   \n",
      "\n",
      "                                         description  \\\n",
      "0  When Puss in Boots discovers that his passion ...   \n",
      "1  The story of The Super Mario Bros. on their jo...   \n",
      "2  All the Upper Rank Demons assemble at the Infi...   \n",
      "\n",
      "                           director  \\\n",
      "0   Joel Crawford, \\nJanuel Mercado   \n",
      "1  Aaron Horvath, \\nMichael Jelenic   \n",
      "2                    Haruo Sotozaki   \n",
      "\n",
      "                                                star  \n",
      "0  Antonio Banderas, \\nSalma Hayek, \\nHarvey Guil...  \n",
      "1  Chris Pratt, \\nAnya Taylor-Joy, \\nCharlie Day,...  \n",
      "2  Zach Aguilar, \\nKira Buckland, \\nGriffin Burns...  \n"
     ]
    }
   ],
   "source": [
    "## Removing unnessary features\n",
    "\n",
    "\"\"\"\n",
    "Important informations about a movie that is memorable and easily identified which users can remember:\n",
    "    --> Movie name\n",
    "    --> Year\n",
    "    --> Genre\n",
    "    --> Description\n",
    "    --> Director\n",
    "    --> Star\n",
    "\n",
    "We will only save these informations since other fields of data are not that significant for the users.\n",
    "\n",
    "Hence, we will drop features of:\n",
    "    --> movie_id\n",
    "    --> certificate\n",
    "    --> runtime\n",
    "    --> rating\n",
    "    --> director_id\n",
    "    --> star_id\n",
    "    --> votes\n",
    "    --> gross(in $)\n",
    "\n",
    "\"\"\"\n",
    "\n",
    "new_df = df.drop('movie_id', axis='columns')\n",
    "new_df = new_df.drop('certificate', axis='columns')\n",
    "new_df = new_df.drop('runtime', axis='columns')\n",
    "new_df = new_df.drop('rating', axis='columns')\n",
    "new_df = new_df.drop('director_id', axis='columns')\n",
    "new_df = new_df.drop('star_id', axis='columns')\n",
    "new_df = new_df.drop('votes', axis='columns')\n",
    "new_df = new_df.drop('gross(in $)', axis='columns')\n",
    "\n",
    "print(\"After retaining wanted features: \\n\")\n",
    "print(new_df.head(3))"
   ]
  },
  {
   "cell_type": "code",
   "execution_count": 46,
   "id": "ceb86c91",
   "metadata": {},
   "outputs": [
    {
     "name": "stdout",
     "output_type": "stream",
     "text": [
      "Missing values in movie_name: 0\n",
      "Missing values in year: 1369\n",
      "Missing values in genre: 0\n",
      "Missing values in description: 0\n",
      "Missing values in director: 902\n",
      "Missing values in star: 2849\n"
     ]
    }
   ],
   "source": [
    "## Check for any missing values in the dataset\n",
    "\n",
    "def nan_counter(feature_name: str, df: pd.DataFrame):\n",
    "    nan_count = df[feature_name].isnull().sum()\n",
    "\n",
    "    print(f\"Missing values in {feature_name}: {nan_count}\")\n",
    "\n",
    "nan_counter(\"movie_name\", new_df)\n",
    "nan_counter(\"year\", new_df)\n",
    "nan_counter(\"genre\", new_df)\n",
    "nan_counter(\"description\", new_df)\n",
    "nan_counter(\"director\", new_df)\n",
    "nan_counter(\"star\", new_df)"
   ]
  },
  {
   "cell_type": "code",
   "execution_count": 47,
   "id": "5d3b9779",
   "metadata": {},
   "outputs": [
    {
     "name": "stdout",
     "output_type": "stream",
     "text": [
      "Number of movies after cleansing dataset: 5291\n",
      "\n",
      "Example of movie:\n",
      "movie_name                                        Bigfoot Family\n",
      "year                                                        2020\n",
      "genre                               Animation, Adventure, Family\n",
      "description    Follow up to Son of Bigfoot: Father uses his n...\n",
      "director                          Jeremy Degruson, \\nBen Stassen\n",
      "star           Jules Medcraft, \\nKylian Trouillard, \\nAlexis ...\n",
      "Name: 457, dtype: object\n"
     ]
    }
   ],
   "source": [
    "## Dropping rows of data which are missing values\n",
    "\n",
    "# Due to the nature of movie recommendations must provide real data, we cannot replace missing data using simple techniques such as imputation technique or forward/backward fill\n",
    "\n",
    "# As such we must drop them\n",
    "\n",
    "new_df = new_df.dropna(axis=0)\n",
    "\n",
    "print(f\"Number of movies after cleansing dataset: {len(new_df)}\\n\")\n",
    "\n",
    "print(f\"Example of movie:\\n{new_df.iloc[450]}\")"
   ]
  },
  {
   "cell_type": "code",
   "execution_count": 48,
   "id": "88a20c7c",
   "metadata": {},
   "outputs": [
    {
     "name": "stdout",
     "output_type": "stream",
     "text": [
      "Number of movies after cleansing dataset: 5245\n"
     ]
    }
   ],
   "source": [
    "## Dropping rows of duplicate values\n",
    "\n",
    "new_df = new_df.drop_duplicates(subset=['movie_name'])\n",
    "\n",
    "print(f\"Number of movies after cleansing dataset: {len(new_df)}\")"
   ]
  },
  {
   "cell_type": "code",
   "execution_count": 49,
   "id": "f519a8cd",
   "metadata": {},
   "outputs": [
    {
     "name": "stdout",
     "output_type": "stream",
     "text": [
      "Number of movies after cleansing dataset: 4521\n"
     ]
    }
   ],
   "source": [
    "## Remove movies that don't have plot description or filler descriptions\n",
    "\n",
    "new_df = new_df[new_df[\"description\"].str.contains(\"Add a Plot\") == False]\n",
    "\n",
    "print(f\"Number of movies after cleansing dataset: {len(new_df)}\")"
   ]
  },
  {
   "cell_type": "code",
   "execution_count": 50,
   "id": "9a58114e",
   "metadata": {},
   "outputs": [
    {
     "name": "stdout",
     "output_type": "stream",
     "text": [
      "                                    movie_name  year      genre  \\\n",
      "count                                     4521  4521       4521   \n",
      "unique                                    4521    98        151   \n",
      "top     Dive Olly Dive: A Hero's Magical Quest  2019  Animation   \n",
      "freq                                         1   306        791   \n",
      "\n",
      "                                              description   director  \\\n",
      "count                                                4521       4521   \n",
      "unique                                               4509       3206   \n",
      "top     Short animation film from the series 'Garabatos'.  Leon Ding   \n",
      "freq                                                    7         32   \n",
      "\n",
      "                                                     star  \n",
      "count                                                4521  \n",
      "unique                                               4300  \n",
      "top     Nobuyo Ôyama, \\nNoriko Ohara, \\nMichiko Nomura...  \n",
      "freq                                                   20  \n"
     ]
    }
   ],
   "source": [
    "## Creating a short description of dataset\n",
    "\n",
    "print(new_df.describe())"
   ]
  },
  {
   "cell_type": "code",
   "execution_count": null,
   "id": "4199b947",
   "metadata": {},
   "outputs": [],
   "source": []
  }
 ],
 "metadata": {
  "kernelspec": {
   "display_name": "Python 3",
   "language": "python",
   "name": "python3"
  },
  "language_info": {
   "codemirror_mode": {
    "name": "ipython",
    "version": 3
   },
   "file_extension": ".py",
   "mimetype": "text/x-python",
   "name": "python",
   "nbconvert_exporter": "python",
   "pygments_lexer": "ipython3",
   "version": "3.11.5"
  }
 },
 "nbformat": 4,
 "nbformat_minor": 5
}
